{
  "cells": [
    {
      "cell_type": "code",
      "execution_count": null,
      "metadata": {
        "id": "YeDYxliz_-xc"
      },
      "outputs": [],
      "source": [
        "import json\n",
        "import spacy"
      ]
    },
    {
      "cell_type": "code",
      "execution_count": null,
      "metadata": {
        "id": "KmOrLt8eAGpX"
      },
      "outputs": [],
      "source": [
        "with open('/content/annotations_2.json') as fp:\n",
        "  training_data = json.load(fp)"
      ]
    },
    {
      "cell_type": "code",
      "execution_count": null,
      "metadata": {
        "colab": {
          "base_uri": "https://localhost:8080/"
        },
        "id": "KWmdNtXqASvN",
        "outputId": "28c6321e-ab40-4b01-8f60-393c92c025d0"
      },
      "outputs": [
        {
          "output_type": "execute_result",
          "data": {
            "text/plain": [
              "{'classes': ['DATE',\n",
              "  'NAME',\n",
              "  'TIME_PERIOD',\n",
              "  'MEDICINE',\n",
              "  'HEALTH_ISSUE',\n",
              "  'HEALTH_METRIC'],\n",
              " 'annotations': [['Record date: 2080-02-18\\r',\n",
              "   {'entities': [[13, 23, 'DATE']]}],\n",
              "  ['\\r', {'entities': []}],\n",
              "  ['SDU JAR Admission Note\\r', {'entities': []}],\n",
              "  ['\\r', {'entities': []}],\n",
              "  ['Name: \\t Yosef Villegas\\r',\n",
              "   {'entities': [[8, 13, 'NAME'], [14, 22, 'NAME']]}],\n",
              "  ['MR:\\t8249813\\r', {'entities': []}],\n",
              "  ['DOA:  \\t2/17/80\\r', {'entities': [[7, 14, 'DATE']]}],\n",
              "  ['PCP:  Gilbert Perez\\r', {'entities': [[6, 13, 'NAME'], [14, 19, 'NAME']]}],\n",
              "  ['CODE: FULL\\r', {'entities': []}],\n",
              "  ['\\r', {'entities': []}],\n",
              "  ['HPI:  70 yo M with NIDDM admitted for cath after positive MIBI. Pt has had increasing CP and SOB on exertion for past two months, seen at PCP on 2/03 with EKG showing RBBB. Pt was scheduled for stress MIBI today to eval for cardiac ischemia. MIBI was reportedly stopped 2/2 to chest pain, though pt denies having pain during procedure. MIBI was read as positive for moderate to severe inferior ischemia and pt was referred to the ED for admission and catheterization.\\r',\n",
              "   {'entities': [[86, 88, 'HEALTH_ISSUE'],\n",
              "     [93, 96, 'HEALTH_ISSUE'],\n",
              "     [118, 128, 'TIME_PERIOD'],\n",
              "     [145, 149, 'DATE'],\n",
              "     [155, 158, 'HEALTH_METRIC'],\n",
              "     [167, 172, 'HEALTH_ISSUE'],\n",
              "     [224, 241, 'HEALTH_ISSUE'],\n",
              "     [277, 287, 'HEALTH_ISSUE'],\n",
              "     [394, 402, 'HEALTH_ISSUE']]}],\n",
              "  ['\\r', {'entities': []}],\n",
              "  ['Seronegative Rheumatoid Arthritis \\r',\n",
              "   {'entities': [[13, 33, 'HEALTH_ISSUE']]}],\n",
              "  ['HTN\\r', {'entities': []}],\n",
              "  ['Right Carotid Artery Dz \\r', {'entities': [[6, 23, 'HEALTH_ISSUE']]}],\n",
              "  ['Obesity \\r', {'entities': [[0, 7, 'HEALTH_ISSUE']]}],\n",
              "  ['Hyperlipidemia \\r', {'entities': [[0, 14, 'HEALTH_ISSUE']]}],\n",
              "  ['Diabetes mellitus type 2\\r',\n",
              "   {'entities': [[0, 8, 'HEALTH_ISSUE'], [9, 17, 'HEALTH_ISSUE']]}],\n",
              "  ['\\r', {'entities': []}],\n",
              "  ['Home Medications: \\r', {'entities': []}],\n",
              "  ['\\r', {'entities': []}],\n",
              "  ['Acetylsalicylic Acid (Aspirin)  PO 81 MG QD\\r',\n",
              "   {'entities': [[0, 15, 'MEDICINE'],\n",
              "     [16, 20, 'MEDICINE'],\n",
              "     [22, 29, 'MEDICINE']]}],\n",
              "  ['Xanax (Alprazolam)  PO  BID\\r',\n",
              "   {'entities': [[0, 5, 'MEDICINE'], [7, 17, 'MEDICINE']]}],\n",
              "  ['Atenolol  PO 50 MG QD\\r', {'entities': [[0, 8, 'MEDICINE']]}],\n",
              "  ['Enalapril Maleate  PO 10 MG QD\\r',\n",
              "   {'entities': [[0, 9, 'MEDICINE'], [10, 17, 'MEDICINE']]}],\n",
              "  ['Hctz (Hydrochlorothiazide)  PO  QD\\r',\n",
              "   {'entities': [[0, 4, 'MEDICINE'], [6, 25, 'MEDICINE']]}],\n",
              "  ['Metformin  PO 850 MG BID\\r', {'entities': [[0, 9, 'MEDICINE']]}],\n",
              "  ['\\r', {'entities': []}],\n",
              "  ['Allergies: NKDA\\r', {'entities': []}],\n",
              "  ['\\r', {'entities': []}],\n",
              "  ['Social History:  Smokes 2 packs per month, drinks 1 case of beer per month\\r',\n",
              "   {'entities': [[32, 41, 'TIME_PERIOD'], [65, 74, 'TIME_PERIOD']]}],\n",
              "  ['\\r', {'entities': []}],\n",
              "  ['Exam:  \\t\\r', {'entities': []}],\n",
              "  ['VS: T: 98.1  HR: 59  BP: 158/72  RR: 20  Sat:  97% RA\\r',\n",
              "   {'entities': [[4, 5, 'HEALTH_METRIC'],\n",
              "     [13, 15, 'HEALTH_METRIC'],\n",
              "     [21, 23, 'HEALTH_METRIC'],\n",
              "     [33, 35, 'HEALTH_METRIC'],\n",
              "     [41, 44, 'HEALTH_METRIC']]}],\n",
              "  ['General: Obese gentleman lying comfortably in bed\\r',\n",
              "   {'entities': [[9, 14, 'HEALTH_ISSUE']]}],\n",
              "  ['HEENT: Pupils equal, round, and reactive to light, extra ocular muscles intact, pharynx clear\\r',\n",
              "   {'entities': []}],\n",
              "  ['Pulmonary: Clear to auscultation bilaterally, no wheezes, rubs or rales \\r',\n",
              "   {'entities': []}],\n",
              "  ['Cardiac:  Irregular, no m/r/g, no jugular venous distension\\r',\n",
              "   {'entities': []}],\n",
              "  ['Abdomen: soft, nt, nd, normal bowl sounds\\r', {'entities': []}],\n",
              "  ['Extr: Positive pedal pulses bilaterally, no cyanosis, clubbing, or edema  \\r',\n",
              "   {'entities': []}],\n",
              "  ['Neuro: Alert and oriented to person place and time. No focal weakness or paresthesias.\\r',\n",
              "   {'entities': [[61, 69, 'HEALTH_ISSUE'], [73, 85, 'HEALTH_ISSUE']]}],\n",
              "  ['\\r', {'entities': []}],\n",
              "  ['DATA: \\r', {'entities': []}],\n",
              "  ['NA        \\t138       \\t          \\t          \\t          \\r',\n",
              "   {'entities': []}],\n",
              "  ['K         \\t3.9      \\t          \\t          \\t          \\r',\n",
              "   {'entities': []}],\n",
              "  ['CL        \\t99(L)     \\t\\t          \\t          \\t          \\r',\n",
              "   {'entities': []}],\n",
              "  ['CO2       \\t27.8      \\t\\t          \\t          \\t          \\r',\n",
              "   {'entities': []}],\n",
              "  ['BUN       \\t16        \\t          \\t          \\t          \\r',\n",
              "   {'entities': []}],\n",
              "  ['CRE       \\t0.9       \\t\\t          \\t          \\t          \\r',\n",
              "   {'entities': []}],\n",
              "  ['GLU       \\t95                  \\t          \\t           \\r',\n",
              "   {'entities': []}],\n",
              "  ['\\r', {'entities': []}],\n",
              "  ['WBC       \\t9.9       \\t          \\t          \\t          \\t          \\r',\n",
              "   {'entities': []}],\n",
              "  ['RBC       \\t5.14      \\t          \\t          \\t          \\t          \\r',\n",
              "   {'entities': []}],\n",
              "  ['HGB       \\t15.7      \\t          \\t          \\t          \\t          \\r',\n",
              "   {'entities': []}],\n",
              "  ['HCT       \\t44.5      \\t          \\t          \\t          \\t          \\r',\n",
              "   {'entities': []}],\n",
              "  ['MCV       \\t87        \\t          \\t          \\t          \\t          \\r',\n",
              "   {'entities': []}],\n",
              "  ['MCH       \\t30.6      \\t          \\t          \\t          \\t          \\r',\n",
              "   {'entities': []}],\n",
              "  ['MCHC      35.4      \\t          \\t          \\t          \\t          \\r',\n",
              "   {'entities': []}],\n",
              "  ['PLT       \\t243       \\t          \\t          \\t          \\t          \\r',\n",
              "   {'entities': []}],\n",
              "  ['RDW       \\t13.4      \\r', {'entities': []}],\n",
              "  ['\\r', {'entities': []}],\n",
              "  ['PT        \\t12.2      \\t          \\t          \\t          \\t          \\r',\n",
              "   {'entities': []}],\n",
              "  ['PT-INR    \\t1.1       \\t          \\t          \\t          \\t          \\r',\n",
              "   {'entities': []}],\n",
              "  ['PTT       \\t24.8      \\t          \\t          \\t          \\t          \\r',\n",
              "   {'entities': []}],\n",
              "  ['\\r', {'entities': []}],\n",
              "  ['MIBI: The patient has reduced exercise capacity (5 METS).  The ECG is positive for ischemia.  LV contractile function is normal. Findings are consistent with moderate to severe ischemia in the inferior and inferolateral ischemia at low work load (1.5 min EX). The LVEF is 52%.\\r',\n",
              "   {'entities': [[83, 92, 'HEALTH_ISSUE'],\n",
              "     [177, 185, 'HEALTH_ISSUE'],\n",
              "     [220, 228, 'HEALTH_ISSUE']]}],\n",
              "  ['\\r', {'entities': []}],\n",
              "  ['EKG: Sinus arrhythmia with RBBB\\r',\n",
              "   {'entities': [[27, 31, 'HEALTH_ISSUE']]}],\n",
              "  ['\\r', {'entities': []}],\n",
              "  ['ASSESSMENT AND PLAN: \\r', {'entities': []}],\n",
              "  ['\\r', {'entities': []}],\n",
              "  ['70 yo M with multiple cardiac risk factors and 2 mo escalating angina sx presents with MIBI positive for interior and inferiolateral ischemia.\\r',\n",
              "   {'entities': [[63, 69, 'HEALTH_ISSUE'], [133, 141, 'HEALTH_ISSUE']]}],\n",
              "  ['\\r', {'entities': []}],\n",
              "  ['CV:\\r', {'entities': []}],\n",
              "  ['\\tIschemia: Hx angina, MIBI positive for inferior and inferiolateral ischemia. \\r',\n",
              "   {'entities': [[1, 9, 'HEALTH_ISSUE'],\n",
              "     [14, 20, 'HEALTH_ISSUE'],\n",
              "     [68, 76, 'HEALTH_ISSUE']]}],\n",
              "  ['Cycle enzymes, plan for cath 2/18 to eval for reversible coronary defect. ASA.\\r',\n",
              "   {'entities': []}],\n",
              "  ['\\tPump: EF estimated at 52%\\r', {'entities': []}],\n",
              "  ['Cont enalapril, hctz\\r',\n",
              "   {'entities': [[5, 14, 'MEDICINE'], [16, 20, 'MEDICINE']]}],\n",
              "  ['Rhythm: Sinus arrythmia and RBBB\\r',\n",
              "   {'entities': [[28, 32, 'HEALTH_ISSUE']]}],\n",
              "  ['Hold atenolol for bradycardia\\r',\n",
              "   {'entities': [[5, 13, 'MEDICINE'], [18, 29, 'HEALTH_ISSUE']]}],\n",
              "  ['DM\\r', {'entities': [[0, 2, 'HEALTH_ISSUE']]}],\n",
              "  ['RISS\\r', {'entities': [[0, 4, 'HEALTH_ISSUE']]}],\n",
              "  ['Prophy:\\r', {'entities': []}],\n",
              "  ['DVT prophylaxis: ambulatory\\r', {'entities': []}],\n",
              "  ['GI prophylaxis: Zantac\\r', {'entities': []}],\n",
              "  ['\\r', {'entities': []}],\n",
              "  ['\\r', {'entities': []}],\n",
              "  ['_______________________\\r', {'entities': []}],\n",
              "  ['Mike Ivan, MD, EHMS pager 84710\\r',\n",
              "   {'entities': [[0, 4, 'NAME'], [5, 9, 'NAME']]}],\n",
              "  ['\\r', {'entities': []}]]}"
            ]
          },
          "metadata": {},
          "execution_count": 3
        }
      ],
      "source": [
        "training_data"
      ]
    },
    {
      "cell_type": "code",
      "execution_count": null,
      "metadata": {
        "colab": {
          "base_uri": "https://localhost:8080/"
        },
        "id": "xqsX3nD1AXWX",
        "outputId": "c94405d7-16f0-4805-89e0-c615d7ebf286"
      },
      "outputs": [
        {
          "output_type": "execute_result",
          "data": {
            "text/plain": [
              "<spacy.pipeline.ner.EntityRecognizer at 0x78e1a0487ed0>"
            ]
          },
          "metadata": {},
          "execution_count": 4
        }
      ],
      "source": [
        "nlp = spacy.blank('en')\n",
        "nlp.vocab.vectors.name = 'mdrec'\n",
        "nlp.add_pipe('ner',last=True)"
      ]
    },
    {
      "cell_type": "code",
      "execution_count": null,
      "metadata": {
        "colab": {
          "base_uri": "https://localhost:8080/"
        },
        "id": "zOnq670KBAnb",
        "outputId": "6b47de04-0ff6-4486-b37a-37ee6638e0d1"
      },
      "outputs": [
        {
          "output_type": "stream",
          "name": "stdout",
          "text": [
            "{1: Counter({'DATE': -1, 'NAME': -2, 'TIME_PERIOD': -3, 'MEDICINE': -4, 'HEALTH_ISSUE': -5, 'HEALTH_METRIC': -6}), 2: Counter({'DATE': -1, 'NAME': -2, 'TIME_PERIOD': -3, 'MEDICINE': -4, 'HEALTH_ISSUE': -5, 'HEALTH_METRIC': -6}), 3: Counter({'DATE': -1, 'NAME': -2, 'TIME_PERIOD': -3, 'MEDICINE': -4, 'HEALTH_ISSUE': -5, 'HEALTH_METRIC': -6}), 4: Counter({'DATE': -1, 'NAME': -2, 'TIME_PERIOD': -3, 'MEDICINE': -4, 'HEALTH_ISSUE': -5, 'HEALTH_METRIC': -6})} True\n"
          ]
        }
      ],
      "source": [
        "for label in training_data[\"classes\"]:\n",
        "  nlp.get_pipe(\"ner\").add_label(label)\n",
        "\n",
        "print(nlp.get_pipe(\"ner\").label_data, nlp.get_pipe(\"ner\").is_trainable)"
      ]
    },
    {
      "cell_type": "code",
      "execution_count": null,
      "metadata": {
        "id": "K6yrdQ_YCRcL"
      },
      "outputs": [],
      "source": [
        "optimizer = nlp.begin_training()"
      ]
    },
    {
      "cell_type": "code",
      "execution_count": null,
      "metadata": {
        "colab": {
          "base_uri": "https://localhost:8080/"
        },
        "id": "BWg0ex6pCXa_",
        "outputId": "4228c761-16c6-43e6-ae97-6653d8ac624d"
      },
      "outputs": [
        {
          "output_type": "execute_result",
          "data": {
            "text/plain": [
              "[['Record date: 2080-02-18\\r', {'entities': [[13, 23, 'DATE']]}],\n",
              " ['\\r', {'entities': []}],\n",
              " ['SDU JAR Admission Note\\r', {'entities': []}],\n",
              " ['\\r', {'entities': []}],\n",
              " ['Name: \\t Yosef Villegas\\r',\n",
              "  {'entities': [[8, 13, 'NAME'], [14, 22, 'NAME']]}],\n",
              " ['MR:\\t8249813\\r', {'entities': []}],\n",
              " ['DOA:  \\t2/17/80\\r', {'entities': [[7, 14, 'DATE']]}],\n",
              " ['PCP:  Gilbert Perez\\r', {'entities': [[6, 13, 'NAME'], [14, 19, 'NAME']]}],\n",
              " ['CODE: FULL\\r', {'entities': []}],\n",
              " ['\\r', {'entities': []}],\n",
              " ['HPI:  70 yo M with NIDDM admitted for cath after positive MIBI. Pt has had increasing CP and SOB on exertion for past two months, seen at PCP on 2/03 with EKG showing RBBB. Pt was scheduled for stress MIBI today to eval for cardiac ischemia. MIBI was reportedly stopped 2/2 to chest pain, though pt denies having pain during procedure. MIBI was read as positive for moderate to severe inferior ischemia and pt was referred to the ED for admission and catheterization.\\r',\n",
              "  {'entities': [[86, 88, 'HEALTH_ISSUE'],\n",
              "    [93, 96, 'HEALTH_ISSUE'],\n",
              "    [118, 128, 'TIME_PERIOD'],\n",
              "    [145, 149, 'DATE'],\n",
              "    [155, 158, 'HEALTH_METRIC'],\n",
              "    [167, 172, 'HEALTH_ISSUE'],\n",
              "    [224, 241, 'HEALTH_ISSUE'],\n",
              "    [277, 287, 'HEALTH_ISSUE'],\n",
              "    [394, 402, 'HEALTH_ISSUE']]}],\n",
              " ['\\r', {'entities': []}],\n",
              " ['Seronegative Rheumatoid Arthritis \\r',\n",
              "  {'entities': [[13, 33, 'HEALTH_ISSUE']]}],\n",
              " ['HTN\\r', {'entities': []}],\n",
              " ['Right Carotid Artery Dz \\r', {'entities': [[6, 23, 'HEALTH_ISSUE']]}],\n",
              " ['Obesity \\r', {'entities': [[0, 7, 'HEALTH_ISSUE']]}],\n",
              " ['Hyperlipidemia \\r', {'entities': [[0, 14, 'HEALTH_ISSUE']]}],\n",
              " ['Diabetes mellitus type 2\\r',\n",
              "  {'entities': [[0, 8, 'HEALTH_ISSUE'], [9, 17, 'HEALTH_ISSUE']]}],\n",
              " ['\\r', {'entities': []}],\n",
              " ['Home Medications: \\r', {'entities': []}],\n",
              " ['\\r', {'entities': []}],\n",
              " ['Acetylsalicylic Acid (Aspirin)  PO 81 MG QD\\r',\n",
              "  {'entities': [[0, 15, 'MEDICINE'],\n",
              "    [16, 20, 'MEDICINE'],\n",
              "    [22, 29, 'MEDICINE']]}],\n",
              " ['Xanax (Alprazolam)  PO  BID\\r',\n",
              "  {'entities': [[0, 5, 'MEDICINE'], [7, 17, 'MEDICINE']]}],\n",
              " ['Atenolol  PO 50 MG QD\\r', {'entities': [[0, 8, 'MEDICINE']]}],\n",
              " ['Enalapril Maleate  PO 10 MG QD\\r',\n",
              "  {'entities': [[0, 9, 'MEDICINE'], [10, 17, 'MEDICINE']]}],\n",
              " ['Hctz (Hydrochlorothiazide)  PO  QD\\r',\n",
              "  {'entities': [[0, 4, 'MEDICINE'], [6, 25, 'MEDICINE']]}],\n",
              " ['Metformin  PO 850 MG BID\\r', {'entities': [[0, 9, 'MEDICINE']]}],\n",
              " ['\\r', {'entities': []}],\n",
              " ['Allergies: NKDA\\r', {'entities': []}],\n",
              " ['\\r', {'entities': []}],\n",
              " ['Social History:  Smokes 2 packs per month, drinks 1 case of beer per month\\r',\n",
              "  {'entities': [[32, 41, 'TIME_PERIOD'], [65, 74, 'TIME_PERIOD']]}],\n",
              " ['\\r', {'entities': []}],\n",
              " ['Exam:  \\t\\r', {'entities': []}],\n",
              " ['VS: T: 98.1  HR: 59  BP: 158/72  RR: 20  Sat:  97% RA\\r',\n",
              "  {'entities': [[4, 5, 'HEALTH_METRIC'],\n",
              "    [13, 15, 'HEALTH_METRIC'],\n",
              "    [21, 23, 'HEALTH_METRIC'],\n",
              "    [33, 35, 'HEALTH_METRIC'],\n",
              "    [41, 44, 'HEALTH_METRIC']]}],\n",
              " ['General: Obese gentleman lying comfortably in bed\\r',\n",
              "  {'entities': [[9, 14, 'HEALTH_ISSUE']]}],\n",
              " ['HEENT: Pupils equal, round, and reactive to light, extra ocular muscles intact, pharynx clear\\r',\n",
              "  {'entities': []}],\n",
              " ['Pulmonary: Clear to auscultation bilaterally, no wheezes, rubs or rales \\r',\n",
              "  {'entities': []}],\n",
              " ['Cardiac:  Irregular, no m/r/g, no jugular venous distension\\r',\n",
              "  {'entities': []}],\n",
              " ['Abdomen: soft, nt, nd, normal bowl sounds\\r', {'entities': []}],\n",
              " ['Extr: Positive pedal pulses bilaterally, no cyanosis, clubbing, or edema  \\r',\n",
              "  {'entities': []}],\n",
              " ['Neuro: Alert and oriented to person place and time. No focal weakness or paresthesias.\\r',\n",
              "  {'entities': [[61, 69, 'HEALTH_ISSUE'], [73, 85, 'HEALTH_ISSUE']]}],\n",
              " ['\\r', {'entities': []}],\n",
              " ['DATA: \\r', {'entities': []}],\n",
              " ['NA        \\t138       \\t          \\t          \\t          \\r',\n",
              "  {'entities': []}],\n",
              " ['K         \\t3.9      \\t          \\t          \\t          \\r',\n",
              "  {'entities': []}],\n",
              " ['CL        \\t99(L)     \\t\\t          \\t          \\t          \\r',\n",
              "  {'entities': []}],\n",
              " ['CO2       \\t27.8      \\t\\t          \\t          \\t          \\r',\n",
              "  {'entities': []}],\n",
              " ['BUN       \\t16        \\t          \\t          \\t          \\r',\n",
              "  {'entities': []}],\n",
              " ['CRE       \\t0.9       \\t\\t          \\t          \\t          \\r',\n",
              "  {'entities': []}],\n",
              " ['GLU       \\t95                  \\t          \\t           \\r',\n",
              "  {'entities': []}],\n",
              " ['\\r', {'entities': []}],\n",
              " ['WBC       \\t9.9       \\t          \\t          \\t          \\t          \\r',\n",
              "  {'entities': []}],\n",
              " ['RBC       \\t5.14      \\t          \\t          \\t          \\t          \\r',\n",
              "  {'entities': []}],\n",
              " ['HGB       \\t15.7      \\t          \\t          \\t          \\t          \\r',\n",
              "  {'entities': []}],\n",
              " ['HCT       \\t44.5      \\t          \\t          \\t          \\t          \\r',\n",
              "  {'entities': []}],\n",
              " ['MCV       \\t87        \\t          \\t          \\t          \\t          \\r',\n",
              "  {'entities': []}],\n",
              " ['MCH       \\t30.6      \\t          \\t          \\t          \\t          \\r',\n",
              "  {'entities': []}],\n",
              " ['MCHC      35.4      \\t          \\t          \\t          \\t          \\r',\n",
              "  {'entities': []}],\n",
              " ['PLT       \\t243       \\t          \\t          \\t          \\t          \\r',\n",
              "  {'entities': []}],\n",
              " ['RDW       \\t13.4      \\r', {'entities': []}],\n",
              " ['\\r', {'entities': []}],\n",
              " ['PT        \\t12.2      \\t          \\t          \\t          \\t          \\r',\n",
              "  {'entities': []}],\n",
              " ['PT-INR    \\t1.1       \\t          \\t          \\t          \\t          \\r',\n",
              "  {'entities': []}],\n",
              " ['PTT       \\t24.8      \\t          \\t          \\t          \\t          \\r',\n",
              "  {'entities': []}],\n",
              " ['\\r', {'entities': []}],\n",
              " ['MIBI: The patient has reduced exercise capacity (5 METS).  The ECG is positive for ischemia.  LV contractile function is normal. Findings are consistent with moderate to severe ischemia in the inferior and inferolateral ischemia at low work load (1.5 min EX). The LVEF is 52%.\\r',\n",
              "  {'entities': [[83, 92, 'HEALTH_ISSUE'],\n",
              "    [177, 185, 'HEALTH_ISSUE'],\n",
              "    [220, 228, 'HEALTH_ISSUE']]}],\n",
              " ['\\r', {'entities': []}],\n",
              " ['EKG: Sinus arrhythmia with RBBB\\r',\n",
              "  {'entities': [[27, 31, 'HEALTH_ISSUE']]}],\n",
              " ['\\r', {'entities': []}],\n",
              " ['ASSESSMENT AND PLAN: \\r', {'entities': []}],\n",
              " ['\\r', {'entities': []}],\n",
              " ['70 yo M with multiple cardiac risk factors and 2 mo escalating angina sx presents with MIBI positive for interior and inferiolateral ischemia.\\r',\n",
              "  {'entities': [[63, 69, 'HEALTH_ISSUE'], [133, 141, 'HEALTH_ISSUE']]}],\n",
              " ['\\r', {'entities': []}],\n",
              " ['CV:\\r', {'entities': []}],\n",
              " ['\\tIschemia: Hx angina, MIBI positive for inferior and inferiolateral ischemia. \\r',\n",
              "  {'entities': [[1, 9, 'HEALTH_ISSUE'],\n",
              "    [14, 20, 'HEALTH_ISSUE'],\n",
              "    [68, 76, 'HEALTH_ISSUE']]}],\n",
              " ['Cycle enzymes, plan for cath 2/18 to eval for reversible coronary defect. ASA.\\r',\n",
              "  {'entities': []}],\n",
              " ['\\tPump: EF estimated at 52%\\r', {'entities': []}],\n",
              " ['Cont enalapril, hctz\\r',\n",
              "  {'entities': [[5, 14, 'MEDICINE'], [16, 20, 'MEDICINE']]}],\n",
              " ['Rhythm: Sinus arrythmia and RBBB\\r',\n",
              "  {'entities': [[28, 32, 'HEALTH_ISSUE']]}],\n",
              " ['Hold atenolol for bradycardia\\r',\n",
              "  {'entities': [[5, 13, 'MEDICINE'], [18, 29, 'HEALTH_ISSUE']]}],\n",
              " ['DM\\r', {'entities': [[0, 2, 'HEALTH_ISSUE']]}],\n",
              " ['RISS\\r', {'entities': [[0, 4, 'HEALTH_ISSUE']]}],\n",
              " ['Prophy:\\r', {'entities': []}],\n",
              " ['DVT prophylaxis: ambulatory\\r', {'entities': []}],\n",
              " ['GI prophylaxis: Zantac\\r', {'entities': []}],\n",
              " ['\\r', {'entities': []}],\n",
              " ['\\r', {'entities': []}],\n",
              " ['_______________________\\r', {'entities': []}],\n",
              " ['Mike Ivan, MD, EHMS pager 84710\\r',\n",
              "  {'entities': [[0, 4, 'NAME'], [5, 9, 'NAME']]}],\n",
              " ['\\r', {'entities': []}]]"
            ]
          },
          "metadata": {},
          "execution_count": 7
        }
      ],
      "source": [
        "training_data[\"annotations\"]"
      ]
    },
    {
      "cell_type": "code",
      "execution_count": null,
      "metadata": {
        "id": "GkXSBTquCrgZ"
      },
      "outputs": [],
      "source": [
        "#!python -m spacy download en_core_web_sm"
      ]
    },
    {
      "cell_type": "code",
      "execution_count": null,
      "metadata": {
        "id": "lmNaO6ByC1cr"
      },
      "outputs": [],
      "source": [
        "import en_core_web_sm\n",
        "nlp = en_core_web_sm.load()"
      ]
    },
    {
      "cell_type": "code",
      "execution_count": null,
      "metadata": {
        "id": "qvEBUIbRDEAm"
      },
      "outputs": [],
      "source": [
        "import spacy\n",
        "import random\n",
        "nlp = spacy.load('en_core_web_sm')"
      ]
    },
    {
      "cell_type": "code",
      "execution_count": null,
      "metadata": {
        "id": "1nse-CtpDXrS"
      },
      "outputs": [],
      "source": [
        "with open('/content/dataset_0.txt','r') as f:\n",
        "  text1 = f.read()"
      ]
    },
    {
      "cell_type": "code",
      "execution_count": null,
      "metadata": {
        "colab": {
          "base_uri": "https://localhost:8080/"
        },
        "id": "9aOhBRTyEla-",
        "outputId": "0c2ca939-62e8-4d3e-9612-77de08733816"
      },
      "outputs": [
        {
          "output_type": "stream",
          "name": "stdout",
          "text": [
            "2069-04-07 CARDINAL\n",
            "Villegas PERSON\n",
            "today DATE\n",
            "November DATE\n",
            "About three weeks ago DATE\n",
            "Atenolol ORG\n",
            "1 Hydroxychloroquine QUANTITY\n",
            "today DATE\n",
            "BP 120/80 ORG\n",
            "ROM ORG\n",
            "Clinical Impression ORG\n",
            "1 MONEY\n",
            "Inflammatory PERSON\n",
            "RA ORG\n",
            "Hydroxychloroquine PERSON\n",
            "2 MONEY\n",
            "1 CARDINAL\n",
            "Xzavian G. Tavares PERSON\n",
            "M.D.\n",
            "XGT PERSON\n"
          ]
        }
      ],
      "source": [
        "doc = nlp(text1)\n",
        "for ent in doc.ents:\n",
        "    print(ent.text,ent.label_)"
      ]
    },
    {
      "cell_type": "code",
      "execution_count": null,
      "metadata": {
        "id": "ND6vOZdNHBIu"
      },
      "outputs": [],
      "source": [
        "optimizer = nlp.get_pipe(\"ner\").create_optimizer()"
      ]
    },
    {
      "cell_type": "code",
      "execution_count": null,
      "metadata": {
        "id": "YIeH9bgrE7hf"
      },
      "outputs": [],
      "source": [
        "from spacy.training.example import Example\n",
        "\n",
        "test=[]\n",
        "for i in range(20):\n",
        "    random.shuffle(training_data[\"annotations\"])\n",
        "    for text, annotations in training_data[\"annotations\"]:\n",
        "        doc = nlp.make_doc(text)\n",
        "        example = Example.from_dict(doc, annotations)\n",
        "        nlp.update([example],drop=0.3, sgd=optimizer)\n",
        "        test.append(example)\n"
      ]
    },
    {
      "cell_type": "code",
      "execution_count": null,
      "metadata": {
        "colab": {
          "base_uri": "https://localhost:8080/"
        },
        "id": "Bl_lnUyrFEV-",
        "outputId": "4aa9b636-5d34-4e65-fd08-d1c8cf31b606"
      },
      "outputs": [
        {
          "output_type": "stream",
          "name": "stdout",
          "text": [
            "SDU JAR Admission Note\r {'entities': []} 23 1\n",
            "Acetylsalicylic Acid (Aspirin)  PO 81 MG QD\r {'entities': [[0, 15, 'MEDICINE'], [16, 20, 'MEDICINE'], [22, 29, 'MEDICINE']]} 44 1\n",
            "PCP:  Gilbert Perez\r {'entities': [[6, 13, 'NAME'], [14, 19, 'NAME']]} 20 1\n",
            "MCH       \t30.6      \t          \t          \t          \t          \r {'entities': []} 66 1\n",
            "HCT       \t44.5      \t          \t          \t          \t          \r {'entities': []} 66 1\n",
            "\tIschemia: Hx angina, MIBI positive for inferior and inferiolateral ischemia. \r {'entities': [[1, 9, 'HEALTH_ISSUE'], [14, 20, 'HEALTH_ISSUE'], [68, 76, 'HEALTH_ISSUE']]} 79 1\n",
            "PLT       \t243       \t          \t          \t          \t          \r {'entities': []} 66 1\n",
            "Exam:  \t\r {'entities': []} 9 1\n",
            "\r {'entities': []} 1 1\n",
            "VS: T: 98.1  HR: 59  BP: 158/72  RR: 20  Sat:  97% RA\r {'entities': [[4, 5, 'HEALTH_METRIC'], [13, 15, 'HEALTH_METRIC'], [21, 23, 'HEALTH_METRIC'], [33, 35, 'HEALTH_METRIC'], [41, 44, 'HEALTH_METRIC']]} 54 1\n",
            "\r {'entities': []} 1 1\n",
            "Abdomen: soft, nt, nd, normal bowl sounds\r {'entities': []} 42 1\n",
            "Hyperlipidemia \r {'entities': [[0, 14, 'HEALTH_ISSUE']]} 16 1\n",
            "Right Carotid Artery Dz \r {'entities': [[6, 23, 'HEALTH_ISSUE']]} 25 1\n",
            "Social History:  Smokes 2 packs per month, drinks 1 case of beer per month\r {'entities': [[32, 41, 'TIME_PERIOD'], [65, 74, 'TIME_PERIOD']]} 75 1\n",
            "MCV       \t87        \t          \t          \t          \t          \r {'entities': []} 66 1\n",
            "\r {'entities': []} 1 1\n",
            "Seronegative Rheumatoid Arthritis \r {'entities': [[13, 33, 'HEALTH_ISSUE']]} 35 1\n",
            "EKG: Sinus arrhythmia with RBBB\r {'entities': [[27, 31, 'HEALTH_ISSUE']]} 32 1\n",
            "MIBI: The patient has reduced exercise capacity (5 METS).  The ECG is positive for ischemia.  LV contractile function is normal. Findings are consistent with moderate to severe ischemia in the inferior and inferolateral ischemia at low work load (1.5 min EX). The LVEF is 52%.\r {'entities': [[83, 92, 'HEALTH_ISSUE'], [177, 185, 'HEALTH_ISSUE'], [220, 228, 'HEALTH_ISSUE']]} 277 1\n",
            "\r {'entities': []} 1 1\n",
            "\r {'entities': []} 1 1\n",
            "\r {'entities': []} 1 1\n",
            "HTN\r {'entities': []} 4 1\n",
            "\tPump: EF estimated at 52%\r {'entities': []} 27 1\n",
            "RISS\r {'entities': [[0, 4, 'HEALTH_ISSUE']]} 5 1\n",
            "\r {'entities': []} 1 1\n",
            "HPI:  70 yo M with NIDDM admitted for cath after positive MIBI. Pt has had increasing CP and SOB on exertion for past two months, seen at PCP on 2/03 with EKG showing RBBB. Pt was scheduled for stress MIBI today to eval for cardiac ischemia. MIBI was reportedly stopped 2/2 to chest pain, though pt denies having pain during procedure. MIBI was read as positive for moderate to severe inferior ischemia and pt was referred to the ED for admission and catheterization.\r {'entities': [[86, 88, 'HEALTH_ISSUE'], [93, 96, 'HEALTH_ISSUE'], [118, 128, 'TIME_PERIOD'], [145, 149, 'DATE'], [155, 158, 'HEALTH_METRIC'], [167, 172, 'HEALTH_ISSUE'], [224, 241, 'HEALTH_ISSUE'], [277, 287, 'HEALTH_ISSUE'], [394, 402, 'HEALTH_ISSUE']]} 468 1\n",
            "DVT prophylaxis: ambulatory\r {'entities': []} 28 1\n",
            "Cycle enzymes, plan for cath 2/18 to eval for reversible coronary defect. ASA.\r {'entities': []} 79 1\n",
            "CO2       \t27.8      \t\t          \t          \t          \r {'entities': []} 56 1\n",
            "CV:\r {'entities': []} 4 1\n",
            "_______________________\r {'entities': []} 24 1\n",
            "GLU       \t95                  \t          \t           \r {'entities': []} 55 1\n",
            "Prophy:\r {'entities': []} 8 1\n",
            "MCHC      35.4      \t          \t          \t          \t          \r {'entities': []} 65 1\n",
            "RDW       \t13.4      \r {'entities': []} 22 1\n",
            "WBC       \t9.9       \t          \t          \t          \t          \r {'entities': []} 66 1\n",
            "\r {'entities': []} 1 1\n",
            "CL        \t99(L)     \t\t          \t          \t          \r {'entities': []} 56 1\n",
            "Extr: Positive pedal pulses bilaterally, no cyanosis, clubbing, or edema  \r {'entities': []} 75 1\n",
            "PT        \t12.2      \t          \t          \t          \t          \r {'entities': []} 66 1\n",
            "Obesity \r {'entities': [[0, 7, 'HEALTH_ISSUE']]} 9 1\n",
            "\r {'entities': []} 1 1\n",
            "Cardiac:  Irregular, no m/r/g, no jugular venous distension\r {'entities': []} 60 1\n",
            "Pulmonary: Clear to auscultation bilaterally, no wheezes, rubs or rales \r {'entities': []} 73 1\n",
            "Enalapril Maleate  PO 10 MG QD\r {'entities': [[0, 9, 'MEDICINE'], [10, 17, 'MEDICINE']]} 31 1\n",
            "\r {'entities': []} 1 1\n",
            "GI prophylaxis: Zantac\r {'entities': []} 23 1\n",
            "\r {'entities': []} 1 1\n",
            "Home Medications: \r {'entities': []} 19 1\n",
            "CODE: FULL\r {'entities': []} 11 1\n",
            "Diabetes mellitus type 2\r {'entities': [[0, 8, 'HEALTH_ISSUE'], [9, 17, 'HEALTH_ISSUE']]} 25 1\n",
            "BUN       \t16        \t          \t          \t          \r {'entities': []} 55 1\n",
            "Allergies: NKDA\r {'entities': []} 16 1\n",
            "MR:\t8249813\r {'entities': []} 12 1\n",
            "HGB       \t15.7      \t          \t          \t          \t          \r {'entities': []} 66 1\n",
            "PTT       \t24.8      \t          \t          \t          \t          \r {'entities': []} 66 1\n",
            "Hold atenolol for bradycardia\r {'entities': [[5, 13, 'MEDICINE'], [18, 29, 'HEALTH_ISSUE']]} 30 1\n",
            "\r {'entities': []} 1 1\n",
            "DM\r {'entities': [[0, 2, 'HEALTH_ISSUE']]} 3 1\n",
            "\r {'entities': []} 1 1\n",
            "Name: \t Yosef Villegas\r {'entities': [[8, 13, 'NAME'], [14, 22, 'NAME']]} 23 1\n",
            "\r {'entities': []} 1 1\n",
            "PT-INR    \t1.1       \t          \t          \t          \t          \r {'entities': []} 66 1\n",
            "K         \t3.9      \t          \t          \t          \r {'entities': []} 54 1\n",
            "\r {'entities': []} 1 1\n",
            "Mike Ivan, MD, EHMS pager 84710\r {'entities': [[0, 4, 'NAME'], [5, 9, 'NAME']]} 32 1\n",
            "Rhythm: Sinus arrythmia and RBBB\r {'entities': [[28, 32, 'HEALTH_ISSUE']]} 33 1\n",
            "Atenolol  PO 50 MG QD\r {'entities': [[0, 8, 'MEDICINE']]} 22 1\n",
            "70 yo M with multiple cardiac risk factors and 2 mo escalating angina sx presents with MIBI positive for interior and inferiolateral ischemia.\r {'entities': [[63, 69, 'HEALTH_ISSUE'], [133, 141, 'HEALTH_ISSUE']]} 143 1\n",
            "\r {'entities': []} 1 1\n",
            "DATA: \r {'entities': []} 7 1\n",
            "Metformin  PO 850 MG BID\r {'entities': [[0, 9, 'MEDICINE']]} 25 1\n",
            "\r {'entities': []} 1 1\n",
            "\r {'entities': []} 1 1\n",
            "DOA:  \t2/17/80\r {'entities': [[7, 14, 'DATE']]} 15 1\n",
            "HEENT: Pupils equal, round, and reactive to light, extra ocular muscles intact, pharynx clear\r {'entities': []} 94 1\n",
            "\r {'entities': []} 1 1\n",
            "NA        \t138       \t          \t          \t          \r {'entities': []} 55 1\n",
            "RBC       \t5.14      \t          \t          \t          \t          \r {'entities': []} 66 1\n",
            "\r {'entities': []} 1 1\n",
            "Record date: 2080-02-18\r {'entities': [[13, 23, 'DATE']]} 24 1\n",
            "ASSESSMENT AND PLAN: \r {'entities': []} 22 1\n",
            "Xanax (Alprazolam)  PO  BID\r {'entities': [[0, 5, 'MEDICINE'], [7, 17, 'MEDICINE']]} 28 1\n",
            "Cont enalapril, hctz\r {'entities': [[5, 14, 'MEDICINE'], [16, 20, 'MEDICINE']]} 21 1\n",
            "Hctz (Hydrochlorothiazide)  PO  QD\r {'entities': [[0, 4, 'MEDICINE'], [6, 25, 'MEDICINE']]} 35 1\n",
            "Neuro: Alert and oriented to person place and time. No focal weakness or paresthesias.\r {'entities': [[61, 69, 'HEALTH_ISSUE'], [73, 85, 'HEALTH_ISSUE']]} 87 1\n",
            "General: Obese gentleman lying comfortably in bed\r {'entities': [[9, 14, 'HEALTH_ISSUE']]} 50 1\n",
            "CRE       \t0.9       \t\t          \t          \t          \r {'entities': []} 56 1\n"
          ]
        }
      ],
      "source": [
        "for text, annotations in training_data[\"annotations\"]:\n",
        "    print(text,annotations,len(text),len([annotations]))"
      ]
    },
    {
      "cell_type": "code",
      "execution_count": null,
      "metadata": {
        "colab": {
          "base_uri": "https://localhost:8080/"
        },
        "id": "R_72oS6yFNcC",
        "outputId": "919c5ae3-6258-4ec1-9c73-a50ea71c9df0"
      },
      "outputs": [
        {
          "output_type": "stream",
          "name": "stdout",
          "text": [
            "2069-04-07 DATE\n",
            "Villegas NAME\n",
            "November DATE\n",
            "three weeks TIME_PERIOD\n",
            "weight. HEALTH_ISSUE\n",
            "Atenolol MEDICINE\n",
            "Hydroxychloroquine NAME\n",
            "tablet MEDICINE\n",
            "BP HEALTH_METRIC\n",
            "carotid. HEALTH_ISSUE\n",
            "Prednisone. HEALTH_ISSUE\n",
            "symptoms. HEALTH_ISSUE\n",
            "per day TIME_PERIOD\n",
            "Xzavian NAME\n",
            "G. NAME\n",
            "DD HEALTH_METRIC\n",
            "DT HEALTH_METRIC\n"
          ]
        }
      ],
      "source": [
        "doc = nlp(text1)\n",
        "for ent in doc.ents:\n",
        "    print(ent.text,ent.label_)"
      ]
    },
    {
      "cell_type": "code",
      "execution_count": null,
      "metadata": {
        "id": "MyF-agrLomRP"
      },
      "outputs": [],
      "source": [
        "import spacy.displacy as displacy"
      ]
    },
    {
      "cell_type": "code",
      "execution_count": null,
      "metadata": {
        "colab": {
          "base_uri": "https://localhost:8080/",
          "height": 191
        },
        "id": "FlHV-vb0s8ZP",
        "outputId": "657f4224-83b1-4bc7-ae57-f1b14f53b94c"
      },
      "outputs": [
        {
          "output_type": "execute_result",
          "data": {
            "text/plain": [
              "'<div class=\"entities\" style=\"line-height: 2.5; direction: ltr\">[&lt;TEXT&gt;</br></br></br>Record date: \\n<mark class=\"entity\" style=\"background: #bfe1d9; padding: 0.45em 0.6em; margin: 0 0.25em; line-height: 1; border-radius: 0.35em;\">\\n    2069-04-07\\n    <span style=\"font-size: 0.8em; font-weight: bold; line-height: 1; border-radius: 0.35em; vertical-align: middle; margin-left: 0.5rem\">DATE</span>\\n</mark>\\n</br></br> </br> </br> </br>Mr. \\n<mark class=\"entity\" style=\"background: #ddd; padding: 0.45em 0.6em; margin: 0 0.25em; line-height: 1; border-radius: 0.35em;\">\\n    Villegas\\n    <span style=\"font-size: 0.8em; font-weight: bold; line-height: 1; border-radius: 0.35em; vertical-align: middle; margin-left: 0.5rem\">NAME</span>\\n</mark>\\n is seen today.  I have not seen him since \\n<mark class=\"entity\" style=\"background: #bfe1d9; padding: 0.45em 0.6em; margin: 0 0.25em; line-height: 1; border-radius: 0.35em;\">\\n    November\\n    <span style=\"font-size: 0.8em; font-weight: bold; line-height: 1; border-radius: 0.35em; vertical-align: middle; margin-left: 0.5rem\">DATE</span>\\n</mark>\\n. </br>About \\n<mark class=\"entity\" style=\"background: #ddd; padding: 0.45em 0.6em; margin: 0 0.25em; line-height: 1; border-radius: 0.35em;\">\\n    three weeks\\n    <span style=\"font-size: 0.8em; font-weight: bold; line-height: 1; border-radius: 0.35em; vertical-align: middle; margin-left: 0.5rem\">TIME_PERIOD</span>\\n</mark>\\n ago he stopped his Prednisone on his own because</br>he was gaining \\n<mark class=\"entity\" style=\"background: #ddd; padding: 0.45em 0.6em; margin: 0 0.25em; line-height: 1; border-radius: 0.35em;\">\\n    weight.\\n    <span style=\"font-size: 0.8em; font-weight: bold; line-height: 1; border-radius: 0.35em; vertical-align: middle; margin-left: 0.5rem\">HEALTH_ISSUE</span>\\n</mark>\\n  He does feel that his shoulders are</br>definitely improved.  It is unclear what he is actually taking, but</br>I think based on the color of his pills and the timing of the</br>medication that he continues taking his \\n<mark class=\"entity\" style=\"background: #ddd; padding: 0.45em 0.6em; margin: 0 0.25em; line-height: 1; border-radius: 0.35em;\">\\n    Atenolol\\n    <span style=\"font-size: 0.8em; font-weight: bold; line-height: 1; border-radius: 0.35em; vertical-align: middle; margin-left: 0.5rem\">MEDICINE</span>\\n</mark>\\n for hypertension</br>and 1 \\n<mark class=\"entity\" style=\"background: #ddd; padding: 0.45em 0.6em; margin: 0 0.25em; line-height: 1; border-radius: 0.35em;\">\\n    Hydroxychloroquine\\n    <span style=\"font-size: 0.8em; font-weight: bold; line-height: 1; border-radius: 0.35em; vertical-align: middle; margin-left: 0.5rem\">NAME</span>\\n</mark>\\n \\n<mark class=\"entity\" style=\"background: #ddd; padding: 0.45em 0.6em; margin: 0 0.25em; line-height: 1; border-radius: 0.35em;\">\\n    tablet\\n    <span style=\"font-size: 0.8em; font-weight: bold; line-height: 1; border-radius: 0.35em; vertical-align: middle; margin-left: 0.5rem\">MEDICINE</span>\\n</mark>\\n.  He is concerned because of the</br>relatively recent onset of difficulties turning his head to the</br>right.  When he does this, he will note that he feels as though he</br>is going to pass out although this has not actually happened.  This</br>only occurs when he turns to the right and not to the left.  He has</br>no visual changes otherwise and denies any headache or other</br>cranial complaints.  </br> </br>On examination today, \\n<mark class=\"entity\" style=\"background: #ddd; padding: 0.45em 0.6em; margin: 0 0.25em; line-height: 1; border-radius: 0.35em;\">\\n    BP\\n    <span style=\"font-size: 0.8em; font-weight: bold; line-height: 1; border-radius: 0.35em; vertical-align: middle; margin-left: 0.5rem\">HEALTH_METRIC</span>\\n</mark>\\n 120/80.  He has no bruits over the</br>\\n<mark class=\"entity\" style=\"background: #ddd; padding: 0.45em 0.6em; margin: 0 0.25em; line-height: 1; border-radius: 0.35em;\">\\n    carotid.\\n    <span style=\"font-size: 0.8em; font-weight: bold; line-height: 1; border-radius: 0.35em; vertical-align: middle; margin-left: 0.5rem\">HEALTH_ISSUE</span>\\n</mark>\\n  He has no tenderness in this region either.  He has good</br>peripheral pulses at the arms.  His joint examination is much</br>improved with better ROM of the shoulders and no peripheral joint</br>synovitis.  </br> </br>Clinical Impression:</br> </br>#1:  Inflammatory arthritis - possibly RA - with response noted to</br>Hydroxychloroquine along with \\n<mark class=\"entity\" style=\"background: #ddd; padding: 0.45em 0.6em; margin: 0 0.25em; line-height: 1; border-radius: 0.35em;\">\\n    Prednisone.\\n    <span style=\"font-size: 0.8em; font-weight: bold; line-height: 1; border-radius: 0.35em; vertical-align: middle; margin-left: 0.5rem\">HEALTH_ISSUE</span>\\n</mark>\\n  He has stopped the</br>Prednisone, and I would not restart it yet.  </br> </br>#2:  New onset of symptoms suspicious for right-sided carotid</br>disease.  Will arrange for carotid ultrasound studies.  Patient</br>advised to call me if he develops any worsening \\n<mark class=\"entity\" style=\"background: #ddd; padding: 0.45em 0.6em; margin: 0 0.25em; line-height: 1; border-radius: 0.35em;\">\\n    symptoms.\\n    <span style=\"font-size: 0.8em; font-weight: bold; line-height: 1; border-radius: 0.35em; vertical-align: middle; margin-left: 0.5rem\">HEALTH_ISSUE</span>\\n</mark>\\n  He has</br>been taking 1 aspirin \\n<mark class=\"entity\" style=\"background: #ddd; padding: 0.45em 0.6em; margin: 0 0.25em; line-height: 1; border-radius: 0.35em;\">\\n    per day\\n    <span style=\"font-size: 0.8em; font-weight: bold; line-height: 1; border-radius: 0.35em; vertical-align: middle; margin-left: 0.5rem\">TIME_PERIOD</span>\\n</mark>\\n prophylaxis long-term, and I stressed</br>that he continue to do so.  He will follow-up with me shortly after</br>the ultrasound study.</br> </br> </br> </br>\\n<mark class=\"entity\" style=\"background: #ddd; padding: 0.45em 0.6em; margin: 0 0.25em; line-height: 1; border-radius: 0.35em;\">\\n    Xzavian\\n    <span style=\"font-size: 0.8em; font-weight: bold; line-height: 1; border-radius: 0.35em; vertical-align: middle; margin-left: 0.5rem\">NAME</span>\\n</mark>\\n \\n<mark class=\"entity\" style=\"background: #ddd; padding: 0.45em 0.6em; margin: 0 0.25em; line-height: 1; border-radius: 0.35em;\">\\n    G.\\n    <span style=\"font-size: 0.8em; font-weight: bold; line-height: 1; border-radius: 0.35em; vertical-align: middle; margin-left: 0.5rem\">NAME</span>\\n</mark>\\n Tavares, M.D.</br>XGT:holmes</br> </br>\\n<mark class=\"entity\" style=\"background: #ddd; padding: 0.45em 0.6em; margin: 0 0.25em; line-height: 1; border-radius: 0.35em;\">\\n    DD\\n    <span style=\"font-size: 0.8em; font-weight: bold; line-height: 1; border-radius: 0.35em; vertical-align: middle; margin-left: 0.5rem\">HEALTH_METRIC</span>\\n</mark>\\n: 04/07/69</br>\\n<mark class=\"entity\" style=\"background: #ddd; padding: 0.45em 0.6em; margin: 0 0.25em; line-height: 1; border-radius: 0.35em;\">\\n    DT\\n    <span style=\"font-size: 0.8em; font-weight: bold; line-height: 1; border-radius: 0.35em; vertical-align: middle; margin-left: 0.5rem\">HEALTH_METRIC</span>\\n</mark>\\n: 04/15/69</br>DV: 04/07/69</br> ******** Approved but not reviewed by Attending Provider ********</br></br></br></br></br>&lt;/TEXT&gt;]</div>'"
            ],
            "application/vnd.google.colaboratory.intrinsic+json": {
              "type": "string"
            }
          },
          "metadata": {},
          "execution_count": 18
        }
      ],
      "source": [
        "displacy.render(doc,style='ent')"
      ]
    },
    {
      "cell_type": "code",
      "source": [
        "teee = displacy.render(doc,style='ent')\n",
        "from IPython.display import display, HTML\n",
        "display(HTML(teee))"
      ],
      "metadata": {
        "colab": {
          "base_uri": "https://localhost:8080/",
          "height": 1000
        },
        "id": "ow27uJbuODpe",
        "outputId": "a8c1f4d4-ff10-4f90-acca-1ea27ff1aa60"
      },
      "execution_count": null,
      "outputs": [
        {
          "output_type": "display_data",
          "data": {
            "text/plain": [
              "<IPython.core.display.HTML object>"
            ],
            "text/html": [
              "<div class=\"entities\" style=\"line-height: 2.5; direction: ltr\">[&lt;TEXT&gt;</br></br></br>Record date: \n",
              "<mark class=\"entity\" style=\"background: #bfe1d9; padding: 0.45em 0.6em; margin: 0 0.25em; line-height: 1; border-radius: 0.35em;\">\n",
              "    2069-04-07\n",
              "    <span style=\"font-size: 0.8em; font-weight: bold; line-height: 1; border-radius: 0.35em; vertical-align: middle; margin-left: 0.5rem\">DATE</span>\n",
              "</mark>\n",
              "</br></br> </br> </br> </br>Mr. \n",
              "<mark class=\"entity\" style=\"background: #ddd; padding: 0.45em 0.6em; margin: 0 0.25em; line-height: 1; border-radius: 0.35em;\">\n",
              "    Villegas\n",
              "    <span style=\"font-size: 0.8em; font-weight: bold; line-height: 1; border-radius: 0.35em; vertical-align: middle; margin-left: 0.5rem\">NAME</span>\n",
              "</mark>\n",
              " is seen today.  I have not seen him since \n",
              "<mark class=\"entity\" style=\"background: #bfe1d9; padding: 0.45em 0.6em; margin: 0 0.25em; line-height: 1; border-radius: 0.35em;\">\n",
              "    November\n",
              "    <span style=\"font-size: 0.8em; font-weight: bold; line-height: 1; border-radius: 0.35em; vertical-align: middle; margin-left: 0.5rem\">DATE</span>\n",
              "</mark>\n",
              ". </br>About \n",
              "<mark class=\"entity\" style=\"background: #ddd; padding: 0.45em 0.6em; margin: 0 0.25em; line-height: 1; border-radius: 0.35em;\">\n",
              "    three weeks\n",
              "    <span style=\"font-size: 0.8em; font-weight: bold; line-height: 1; border-radius: 0.35em; vertical-align: middle; margin-left: 0.5rem\">TIME_PERIOD</span>\n",
              "</mark>\n",
              " ago he stopped his Prednisone on his own because</br>he was gaining \n",
              "<mark class=\"entity\" style=\"background: #ddd; padding: 0.45em 0.6em; margin: 0 0.25em; line-height: 1; border-radius: 0.35em;\">\n",
              "    weight.\n",
              "    <span style=\"font-size: 0.8em; font-weight: bold; line-height: 1; border-radius: 0.35em; vertical-align: middle; margin-left: 0.5rem\">HEALTH_ISSUE</span>\n",
              "</mark>\n",
              "  He does feel that his shoulders are</br>definitely improved.  It is unclear what he is actually taking, but</br>I think based on the color of his pills and the timing of the</br>medication that he continues taking his \n",
              "<mark class=\"entity\" style=\"background: #ddd; padding: 0.45em 0.6em; margin: 0 0.25em; line-height: 1; border-radius: 0.35em;\">\n",
              "    Atenolol\n",
              "    <span style=\"font-size: 0.8em; font-weight: bold; line-height: 1; border-radius: 0.35em; vertical-align: middle; margin-left: 0.5rem\">MEDICINE</span>\n",
              "</mark>\n",
              " for hypertension</br>and 1 \n",
              "<mark class=\"entity\" style=\"background: #ddd; padding: 0.45em 0.6em; margin: 0 0.25em; line-height: 1; border-radius: 0.35em;\">\n",
              "    Hydroxychloroquine\n",
              "    <span style=\"font-size: 0.8em; font-weight: bold; line-height: 1; border-radius: 0.35em; vertical-align: middle; margin-left: 0.5rem\">NAME</span>\n",
              "</mark>\n",
              " \n",
              "<mark class=\"entity\" style=\"background: #ddd; padding: 0.45em 0.6em; margin: 0 0.25em; line-height: 1; border-radius: 0.35em;\">\n",
              "    tablet\n",
              "    <span style=\"font-size: 0.8em; font-weight: bold; line-height: 1; border-radius: 0.35em; vertical-align: middle; margin-left: 0.5rem\">MEDICINE</span>\n",
              "</mark>\n",
              ".  He is concerned because of the</br>relatively recent onset of difficulties turning his head to the</br>right.  When he does this, he will note that he feels as though he</br>is going to pass out although this has not actually happened.  This</br>only occurs when he turns to the right and not to the left.  He has</br>no visual changes otherwise and denies any headache or other</br>cranial complaints.  </br> </br>On examination today, \n",
              "<mark class=\"entity\" style=\"background: #ddd; padding: 0.45em 0.6em; margin: 0 0.25em; line-height: 1; border-radius: 0.35em;\">\n",
              "    BP\n",
              "    <span style=\"font-size: 0.8em; font-weight: bold; line-height: 1; border-radius: 0.35em; vertical-align: middle; margin-left: 0.5rem\">HEALTH_METRIC</span>\n",
              "</mark>\n",
              " 120/80.  He has no bruits over the</br>\n",
              "<mark class=\"entity\" style=\"background: #ddd; padding: 0.45em 0.6em; margin: 0 0.25em; line-height: 1; border-radius: 0.35em;\">\n",
              "    carotid.\n",
              "    <span style=\"font-size: 0.8em; font-weight: bold; line-height: 1; border-radius: 0.35em; vertical-align: middle; margin-left: 0.5rem\">HEALTH_ISSUE</span>\n",
              "</mark>\n",
              "  He has no tenderness in this region either.  He has good</br>peripheral pulses at the arms.  His joint examination is much</br>improved with better ROM of the shoulders and no peripheral joint</br>synovitis.  </br> </br>Clinical Impression:</br> </br>#1:  Inflammatory arthritis - possibly RA - with response noted to</br>Hydroxychloroquine along with \n",
              "<mark class=\"entity\" style=\"background: #ddd; padding: 0.45em 0.6em; margin: 0 0.25em; line-height: 1; border-radius: 0.35em;\">\n",
              "    Prednisone.\n",
              "    <span style=\"font-size: 0.8em; font-weight: bold; line-height: 1; border-radius: 0.35em; vertical-align: middle; margin-left: 0.5rem\">HEALTH_ISSUE</span>\n",
              "</mark>\n",
              "  He has stopped the</br>Prednisone, and I would not restart it yet.  </br> </br>#2:  New onset of symptoms suspicious for right-sided carotid</br>disease.  Will arrange for carotid ultrasound studies.  Patient</br>advised to call me if he develops any worsening \n",
              "<mark class=\"entity\" style=\"background: #ddd; padding: 0.45em 0.6em; margin: 0 0.25em; line-height: 1; border-radius: 0.35em;\">\n",
              "    symptoms.\n",
              "    <span style=\"font-size: 0.8em; font-weight: bold; line-height: 1; border-radius: 0.35em; vertical-align: middle; margin-left: 0.5rem\">HEALTH_ISSUE</span>\n",
              "</mark>\n",
              "  He has</br>been taking 1 aspirin \n",
              "<mark class=\"entity\" style=\"background: #ddd; padding: 0.45em 0.6em; margin: 0 0.25em; line-height: 1; border-radius: 0.35em;\">\n",
              "    per day\n",
              "    <span style=\"font-size: 0.8em; font-weight: bold; line-height: 1; border-radius: 0.35em; vertical-align: middle; margin-left: 0.5rem\">TIME_PERIOD</span>\n",
              "</mark>\n",
              " prophylaxis long-term, and I stressed</br>that he continue to do so.  He will follow-up with me shortly after</br>the ultrasound study.</br> </br> </br> </br>\n",
              "<mark class=\"entity\" style=\"background: #ddd; padding: 0.45em 0.6em; margin: 0 0.25em; line-height: 1; border-radius: 0.35em;\">\n",
              "    Xzavian\n",
              "    <span style=\"font-size: 0.8em; font-weight: bold; line-height: 1; border-radius: 0.35em; vertical-align: middle; margin-left: 0.5rem\">NAME</span>\n",
              "</mark>\n",
              " \n",
              "<mark class=\"entity\" style=\"background: #ddd; padding: 0.45em 0.6em; margin: 0 0.25em; line-height: 1; border-radius: 0.35em;\">\n",
              "    G.\n",
              "    <span style=\"font-size: 0.8em; font-weight: bold; line-height: 1; border-radius: 0.35em; vertical-align: middle; margin-left: 0.5rem\">NAME</span>\n",
              "</mark>\n",
              " Tavares, M.D.</br>XGT:holmes</br> </br>\n",
              "<mark class=\"entity\" style=\"background: #ddd; padding: 0.45em 0.6em; margin: 0 0.25em; line-height: 1; border-radius: 0.35em;\">\n",
              "    DD\n",
              "    <span style=\"font-size: 0.8em; font-weight: bold; line-height: 1; border-radius: 0.35em; vertical-align: middle; margin-left: 0.5rem\">HEALTH_METRIC</span>\n",
              "</mark>\n",
              ": 04/07/69</br>\n",
              "<mark class=\"entity\" style=\"background: #ddd; padding: 0.45em 0.6em; margin: 0 0.25em; line-height: 1; border-radius: 0.35em;\">\n",
              "    DT\n",
              "    <span style=\"font-size: 0.8em; font-weight: bold; line-height: 1; border-radius: 0.35em; vertical-align: middle; margin-left: 0.5rem\">HEALTH_METRIC</span>\n",
              "</mark>\n",
              ": 04/15/69</br>DV: 04/07/69</br> ******** Approved but not reviewed by Attending Provider ********</br></br></br></br></br>&lt;/TEXT&gt;]</div>"
            ]
          },
          "metadata": {}
        }
      ]
    },
    {
      "cell_type": "code",
      "execution_count": null,
      "metadata": {
        "id": "w5CWEzUPuR5i"
      },
      "outputs": [],
      "source": [
        "def replace_name (token):\n",
        "    if token.ent_iob != 0 and token.ent_type_ == \"NAME\":\n",
        "        return \"[Name]\"\n",
        "    elif token.ent_iob!=0 and token.ent_type_ == \"DATE\":\n",
        "        return \"[DATE]\"\n",
        "        # elif token.ent_iob!=0 and token.ent_type_ == \"HEALTH_ISSUE\":\n",
        "        # return \"[HEALTH_ISSUE]\"\n",
        "    else:\n",
        "        return token.text"
      ]
    },
    {
      "cell_type": "code",
      "execution_count": null,
      "metadata": {
        "id": "Tasra_rEukc3"
      },
      "outputs": [],
      "source": [
        "def scrub(text):\n",
        "    docx=nlp(text)\n",
        "    with doc.retokenize() as retokenizer:\n",
        "        for ent in docx.ents:\n",
        "            retokenizer.merge(ent)\n",
        "    tokens = map(replace_name,docx)\n",
        "    result = \" \".join(tokens)\n",
        "    return result"
      ]
    },
    {
      "cell_type": "code",
      "execution_count": null,
      "metadata": {
        "id": "ysNuecdfuoUT"
      },
      "outputs": [],
      "source": [
        "doc1 = scrub(text1)"
      ]
    },
    {
      "cell_type": "code",
      "execution_count": null,
      "metadata": {
        "colab": {
          "base_uri": "https://localhost:8080/",
          "height": 191
        },
        "id": "z2LeKWktu30P",
        "outputId": "ff79dc66-c69b-4f2a-d84f-8370c786bc9d"
      },
      "outputs": [
        {
          "output_type": "execute_result",
          "data": {
            "text/plain": [
              "'<div class=\"entities\" style=\"line-height: 2.5; direction: ltr\">[ &lt; TEXT &gt; </br></br></br> Record date : [DATE] [DATE] [DATE] [DATE] [DATE] </br></br> </br> </br> </br> Mr. [Name] is seen today .   I have not seen him since [DATE] . </br> About \\n<mark class=\"entity\" style=\"background: #ddd; padding: 0.45em 0.6em; margin: 0 0.25em; line-height: 1; border-radius: 0.35em;\">\\n    three weeks\\n    <span style=\"font-size: 0.8em; font-weight: bold; line-height: 1; border-radius: 0.35em; vertical-align: middle; margin-left: 0.5rem\">TIME_PERIOD</span>\\n</mark>\\n ago he stopped his Prednisone on his own because </br> he was gaining weight .   He does feel that his shoulders are </br> definitely improved .   It is unclear what he is actually taking , but </br> I think based on the color of his pills and the timing of the </br> medication that he continues taking his \\n<mark class=\"entity\" style=\"background: #ddd; padding: 0.45em 0.6em; margin: 0 0.25em; line-height: 1; border-radius: 0.35em;\">\\n    Atenolol\\n    <span style=\"font-size: 0.8em; font-weight: bold; line-height: 1; border-radius: 0.35em; vertical-align: middle; margin-left: 0.5rem\">MEDICINE</span>\\n</mark>\\n for hypertension </br> and 1 [Name] tablet .   He is concerned because of the </br> relatively recent onset of difficulties turning his head to the </br> right .   When he does this , he will note that he feels as though he </br> is going to pass out although this has not actually happened .   This </br> only occurs when he turns to the right and not to the left .   He has </br> no visual changes otherwise and denies any headache or other </br> cranial complaints .  </br> </br> On examination today , \\n<mark class=\"entity\" style=\"background: #ddd; padding: 0.45em 0.6em; margin: 0 0.25em; line-height: 1; border-radius: 0.35em;\">\\n    BP\\n    <span style=\"font-size: 0.8em; font-weight: bold; line-height: 1; border-radius: 0.35em; vertical-align: middle; margin-left: 0.5rem\">HEALTH_METRIC</span>\\n</mark>\\n 120/80 .   He has no bruits over the </br> \\n<mark class=\"entity\" style=\"background: #ddd; padding: 0.45em 0.6em; margin: 0 0.25em; line-height: 1; border-radius: 0.35em;\">\\n    carotid .\\n    <span style=\"font-size: 0.8em; font-weight: bold; line-height: 1; border-radius: 0.35em; vertical-align: middle; margin-left: 0.5rem\">HEALTH_ISSUE</span>\\n</mark>\\n   He has no tenderness in this region either .   He has good </br> peripheral pulses at the arms .   His joint examination is much </br> improved with better ROM of the shoulders and no peripheral joint </br> synovitis .  </br> </br> Clinical Impression : </br> </br> # 1 :   Inflammatory arthritis - possibly RA - with response noted to </br> Hydroxychloroquine along with \\n<mark class=\"entity\" style=\"background: #ddd; padding: 0.45em 0.6em; margin: 0 0.25em; line-height: 1; border-radius: 0.35em;\">\\n    Prednisone .\\n    <span style=\"font-size: 0.8em; font-weight: bold; line-height: 1; border-radius: 0.35em; vertical-align: middle; margin-left: 0.5rem\">HEALTH_ISSUE</span>\\n</mark>\\n   He has stopped the </br> Prednisone , and I would not restart it yet .  </br> </br> # 2 :   New onset of symptoms suspicious for right - sided carotid </br> disease .   Will arrange for carotid ultrasound studies .   Patient </br> advised to call me if he develops any worsening symptoms .   He has </br> been taking 1 aspirin \\n<mark class=\"entity\" style=\"background: #ddd; padding: 0.45em 0.6em; margin: 0 0.25em; line-height: 1; border-radius: 0.35em;\">\\n    per day\\n    <span style=\"font-size: 0.8em; font-weight: bold; line-height: 1; border-radius: 0.35em; vertical-align: middle; margin-left: 0.5rem\">TIME_PERIOD</span>\\n</mark>\\n prophylaxis long - term , and I stressed </br> that he continue to do so .   He will follow - up with me shortly after </br> the ultrasound study . </br> </br> </br> </br> [Name] [Name] Tavares , M.D. </br> XGT : holmes </br> </br> \\n<mark class=\"entity\" style=\"background: #ddd; padding: 0.45em 0.6em; margin: 0 0.25em; line-height: 1; border-radius: 0.35em;\">\\n    DD\\n    <span style=\"font-size: 0.8em; font-weight: bold; line-height: 1; border-radius: 0.35em; vertical-align: middle; margin-left: 0.5rem\">HEALTH_METRIC</span>\\n</mark>\\n : 04/07/69 </br> DT : 04/15/69 </br> DV : 04/07/69 </br>  * * * * * * * * Approved but not reviewed by Attending Provider * * * * * * * * </br></br></br></br></br> &lt; /TEXT &gt; ]</div>'"
            ],
            "application/vnd.google.colaboratory.intrinsic+json": {
              "type": "string"
            }
          },
          "metadata": {},
          "execution_count": 23
        }
      ],
      "source": [
        "displacy.render(nlp(doc1),style='ent')"
      ]
    },
    {
      "cell_type": "code",
      "source": [],
      "metadata": {
        "id": "zSM51bg9AT7B"
      },
      "execution_count": null,
      "outputs": []
    },
    {
      "cell_type": "code",
      "source": [
        "deid=displacy.render(nlp(doc1),style='ent')\n",
        "from IPython.display import display, HTML\n",
        "display(HTML(deid))"
      ],
      "metadata": {
        "colab": {
          "base_uri": "https://localhost:8080/",
          "height": 1000
        },
        "id": "2jpeesTfPzEO",
        "outputId": "a61e5cd4-e136-496e-b689-2a2bade2023f"
      },
      "execution_count": null,
      "outputs": [
        {
          "output_type": "display_data",
          "data": {
            "text/plain": [
              "<IPython.core.display.HTML object>"
            ],
            "text/html": [
              "<div class=\"entities\" style=\"line-height: 2.5; direction: ltr\">[ &lt; TEXT &gt; </br></br></br> Record date : [DATE] [DATE] [DATE] [DATE] [DATE] </br></br> </br> </br> </br> Mr. [Name] is seen today .   I have not seen him since [DATE] . </br> About \n",
              "<mark class=\"entity\" style=\"background: #ddd; padding: 0.45em 0.6em; margin: 0 0.25em; line-height: 1; border-radius: 0.35em;\">\n",
              "    three weeks\n",
              "    <span style=\"font-size: 0.8em; font-weight: bold; line-height: 1; border-radius: 0.35em; vertical-align: middle; margin-left: 0.5rem\">TIME_PERIOD</span>\n",
              "</mark>\n",
              " ago he stopped his Prednisone on his own because </br> he was gaining weight .   He does feel that his shoulders are </br> definitely improved .   It is unclear what he is actually taking , but </br> I think based on the color of his pills and the timing of the </br> medication that he continues taking his \n",
              "<mark class=\"entity\" style=\"background: #ddd; padding: 0.45em 0.6em; margin: 0 0.25em; line-height: 1; border-radius: 0.35em;\">\n",
              "    Atenolol\n",
              "    <span style=\"font-size: 0.8em; font-weight: bold; line-height: 1; border-radius: 0.35em; vertical-align: middle; margin-left: 0.5rem\">MEDICINE</span>\n",
              "</mark>\n",
              " for hypertension </br> and 1 [Name] tablet .   He is concerned because of the </br> relatively recent onset of difficulties turning his head to the </br> right .   When he does this , he will note that he feels as though he </br> is going to pass out although this has not actually happened .   This </br> only occurs when he turns to the right and not to the left .   He has </br> no visual changes otherwise and denies any headache or other </br> cranial complaints .  </br> </br> On examination today , \n",
              "<mark class=\"entity\" style=\"background: #ddd; padding: 0.45em 0.6em; margin: 0 0.25em; line-height: 1; border-radius: 0.35em;\">\n",
              "    BP\n",
              "    <span style=\"font-size: 0.8em; font-weight: bold; line-height: 1; border-radius: 0.35em; vertical-align: middle; margin-left: 0.5rem\">HEALTH_METRIC</span>\n",
              "</mark>\n",
              " 120/80 .   He has no bruits over the </br> \n",
              "<mark class=\"entity\" style=\"background: #ddd; padding: 0.45em 0.6em; margin: 0 0.25em; line-height: 1; border-radius: 0.35em;\">\n",
              "    carotid .\n",
              "    <span style=\"font-size: 0.8em; font-weight: bold; line-height: 1; border-radius: 0.35em; vertical-align: middle; margin-left: 0.5rem\">HEALTH_ISSUE</span>\n",
              "</mark>\n",
              "   He has no tenderness in this region either .   He has good </br> peripheral pulses at the arms .   His joint examination is much </br> improved with better ROM of the shoulders and no peripheral joint </br> synovitis .  </br> </br> Clinical Impression : </br> </br> # 1 :   Inflammatory arthritis - possibly RA - with response noted to </br> Hydroxychloroquine along with \n",
              "<mark class=\"entity\" style=\"background: #ddd; padding: 0.45em 0.6em; margin: 0 0.25em; line-height: 1; border-radius: 0.35em;\">\n",
              "    Prednisone .\n",
              "    <span style=\"font-size: 0.8em; font-weight: bold; line-height: 1; border-radius: 0.35em; vertical-align: middle; margin-left: 0.5rem\">HEALTH_ISSUE</span>\n",
              "</mark>\n",
              "   He has stopped the </br> Prednisone , and I would not restart it yet .  </br> </br> # 2 :   New onset of symptoms suspicious for right - sided carotid </br> disease .   Will arrange for carotid ultrasound studies .   Patient </br> advised to call me if he develops any worsening symptoms .   He has </br> been taking 1 aspirin \n",
              "<mark class=\"entity\" style=\"background: #ddd; padding: 0.45em 0.6em; margin: 0 0.25em; line-height: 1; border-radius: 0.35em;\">\n",
              "    per day\n",
              "    <span style=\"font-size: 0.8em; font-weight: bold; line-height: 1; border-radius: 0.35em; vertical-align: middle; margin-left: 0.5rem\">TIME_PERIOD</span>\n",
              "</mark>\n",
              " prophylaxis long - term , and I stressed </br> that he continue to do so .   He will follow - up with me shortly after </br> the ultrasound study . </br> </br> </br> </br> [Name] [Name] Tavares , M.D. </br> XGT : holmes </br> </br> \n",
              "<mark class=\"entity\" style=\"background: #ddd; padding: 0.45em 0.6em; margin: 0 0.25em; line-height: 1; border-radius: 0.35em;\">\n",
              "    DD\n",
              "    <span style=\"font-size: 0.8em; font-weight: bold; line-height: 1; border-radius: 0.35em; vertical-align: middle; margin-left: 0.5rem\">HEALTH_METRIC</span>\n",
              "</mark>\n",
              " : 04/07/69 </br> DT : 04/15/69 </br> DV : 04/07/69 </br>  * * * * * * * * Approved but not reviewed by Attending Provider * * * * * * * * </br></br></br></br></br> &lt; /TEXT &gt; ]</div>"
            ]
          },
          "metadata": {}
        }
      ]
    },
    {
      "cell_type": "code",
      "execution_count": null,
      "metadata": {
        "colab": {
          "base_uri": "https://localhost:8080/",
          "height": 676
        },
        "id": "PnLDPnJHGkZQ",
        "outputId": "5bd7f7d2-b1bc-490e-e932-7cbf52339ed9"
      },
      "outputs": [
        {
          "output_type": "stream",
          "name": "stdout",
          "text": [
            "{'token_acc': 1.0, 'token_p': 1.0, 'token_r': 1.0, 'token_f': 1.0, 'tag_acc': None, 'sents_p': 1.0, 'sents_r': 1.0, 'sents_f': 1.0, 'dep_uas': None, 'dep_las': None, 'dep_las_per_type': None, 'pos_acc': None, 'morph_acc': None, 'morph_micro_p': None, 'morph_micro_r': None, 'morph_micro_f': None, 'morph_per_feat': None, 'lemma_acc': None, 'ents_p': 1.0, 'ents_r': 1.0, 'ents_f': 1.0, 'ents_per_type': {'MEDICINE': {'p': 1.0, 'r': 1.0, 'f': 1.0}, 'HEALTH_ISSUE': {'p': 1.0, 'r': 1.0, 'f': 1.0}, 'NAME': {'p': 1.0, 'r': 1.0, 'f': 1.0}, 'TIME_PERIOD': {'p': 1.0, 'r': 1.0, 'f': 1.0}, 'DATE': {'p': 1.0, 'r': 1.0, 'f': 1.0}, 'HEALTH_METRIC': {'p': 1.0, 'r': 1.0, 'f': 1.0}}, 'speed': 5005.150085303719}\n"
          ]
        },
        {
          "output_type": "display_data",
          "data": {
            "text/plain": [
              "<Figure size 1200x800 with 2 Axes>"
            ],
            "image/png": "[encoded data removed]"
          },
          "metadata": {}
        }
      ],
      "source": [
        "import pandas as pd\n",
        "import seaborn as sns\n",
        "\n",
        "sns.set(rc={\"figure.figsize\":(12,8)})\n",
        "\n",
        "df = pd.DataFrame(nlp.evaluate(test)['ents_per_type'])\n",
        "\n",
        "g = sns.heatmap(df, cmap=\"Blues\", annot=True, fmt='g')\n",
        "g.get_figure().savefig(\"heatmap.png\")\n",
        "\n",
        "print(nlp.evaluate(test))"
      ]
    },
    {
      "cell_type": "markdown",
      "source": [
        "[<TEXT>\n",
        "\n",
        "\n",
        "Record date: 2090-02-14\n",
        "\n",
        "EDVISIT^56040785^OROZCO, KYLE^02/14/90^CHANEY, QUENTIN\n",
        "CHIEF COMPLAINT:  Chest pain.\n",
        "\n",
        "I confirm that I have interviewed and examined the patient,\n",
        "\n",
        "reviewed the resident's documentation on the patient's chart, and\n",
        "\n",
        "discussed the evaluation, plan of care, and disposition with the\n",
        "\n",
        "patient.\n",
        "\n",
        "HISTORY OF PRESENT ILLNESS:  In essence, this is a pleasant\n",
        "\n",
        "65-year-old male with known history of CAD who presents\n",
        "\n",
        "complaining of some chest discomfort that began tonight while\n",
        "\n",
        "walking, took 2 nitro and the pain got better.  Then, had a\n",
        "\n",
        "repeat episode relived by nitro again.  Picked up by EMS.  Given\n",
        "\n",
        "aspirin as well.  He describes the pain as 8/10, sharp, left\n",
        "\n",
        "sided, substernal, and deep.  No diaphoresis, no nausea, no\n",
        "\n",
        "vomiting, and some shortness of breath associated with it.\n",
        "\n",
        "PAST MEDICAL HISTORY:  Hypertension, diabetes, CAD, and\n",
        "\n",
        "peripheral vascular disease.\n",
        "\n",
        "SOCIAL HISTORY:  He is a past smoker, occasional drinker.  Lives\n",
        "\n",
        "with family.\n",
        "\n",
        "FAMILY HISTORY:  Noncontributory.\n",
        "\n",
        "PAST SURGICAL HISTORY:  Angioplasty with multiple stents and an\n",
        "\n",
        "A-fem bypass in 2074.\n",
        "\n",
        "REVIEW OF SYSTEMS:  Per HPI.\n",
        "\n",
        "ALLERGIES:  Does not have any allergies.\n",
        "\n",
        "MEDICATIONS:  He is on multiple medications which include Plavix,\n",
        "\n",
        "Zocor, aspirin, Norvasc, enalapril, NovoLog, Lasix, Neurontin,\n",
        "\n",
        "and Lantus.\n",
        "\n",
        "PHYSICAL EXAMINATION:  Pulse of 90, respirations 16, blood\n",
        "\n",
        "pressure 186/56, oxygen saturation 97%, and temperature is 97.4.\n",
        "\n",
        "HEENT is atraumatic, normal to inspection, normal pharynx.  Neck\n",
        "\n",
        "is supple.  Lungs are clear.  Cardiovascular:  Regular rate and\n",
        "\n",
        "rhythm with no murmurs or gallops.  Abdomen is soft, nontender\n",
        "\n",
        "with no organomegaly or masses.  Skin is warm, dry, and intact.\n",
        "\n",
        "LABORATORY DATA:  White count 6.8, hematocrit 34.1, and platelet\n",
        "\n",
        "count of 229,000.  BUN 45, creatinine 1.7 up from 1.3, and\n",
        "\n",
        "glucose 420.  Cardiac enzymes were negative.  INR is 1.  EKG\n",
        "\n",
        "shows no acute ST-T changes.  Chest x-ray was normal.\n",
        "\n",
        "EMERGENCY DEPARTMENT COURSE:  At this time, we have spoken with\n",
        "\n",
        "the patient's primary physician and given the patient's cardiac\n",
        "\n",
        "history, his hypertension, and worsening kidney function, we\n",
        "\n",
        "believe that he will be better served as an inpatient.\n",
        "\n",
        "PRIMARY DIAGNOSIS:  Chest pain, rule out acute coronary syndrome.\n",
        "\n",
        "DISPOSITION:  Admit to hospital.\n",
        "\n",
        "CONDITION:  Stable\n",
        "\n",
        "______________________________\n",
        "\n",
        "CHANEY, QUENTIN M.D.\n",
        "\n",
        "D: 02/15/90\n",
        "\n",
        "T: 02/15/90\n",
        "\n",
        "Dictated By: CHANEY, QUENTIN\n",
        "eScription document:7-9617124 SJZvdbs\n",
        "\n",
        " ******** Not reviewed by Attending Physician ********\n",
        "\n",
        "\n",
        "\n",
        "\n",
        "\n",
        "</TEXT>]"
      ],
      "metadata": {
        "id": "Iv0oxaJ3jhlY"
      }
    },
    {
      "cell_type": "code",
      "source": [
        "doc = nlp(\"my name is george.\")"
      ],
      "metadata": {
        "id": "c2_voATyjXXg"
      },
      "execution_count": null,
      "outputs": []
    },
    {
      "cell_type": "code",
      "source": [
        "for ent in doc.ents:\n",
        "    print(ent.text,ent.label_)"
      ],
      "metadata": {
        "colab": {
          "base_uri": "https://localhost:8080/"
        },
        "id": "b0Kx_xalmdTm",
        "outputId": "ecd6cbc5-4a1b-4086-a381-6cbba408886b"
      },
      "execution_count": null,
      "outputs": [
        {
          "output_type": "stream",
          "name": "stdout",
          "text": [
            "george NAME\n"
          ]
        }
      ]
    },
    {
      "cell_type": "code",
      "source": [
        "deid = scrub(doc)"
      ],
      "metadata": {
        "id": "sbTkBeQrn1pO"
      },
      "execution_count": null,
      "outputs": []
    },
    {
      "cell_type": "code",
      "source": [
        "deid"
      ],
      "metadata": {
        "id": "Mq4xIe_vn6KG",
        "outputId": "c9a21bb1-8b54-44c8-cd90-7d4ebbe56dab",
        "colab": {
          "base_uri": "https://localhost:8080/",
          "height": 35
        }
      },
      "execution_count": null,
      "outputs": [
        {
          "output_type": "execute_result",
          "data": {
            "text/plain": [
              "'my name is [Name] .'"
            ],
            "application/vnd.google.colaboratory.intrinsic+json": {
              "type": "string"
            }
          },
          "metadata": {},
          "execution_count": 29
        }
      ]
    }
  ],
  "metadata": {
    "colab": {
      "provenance": []
    },
    "kernelspec": {
      "display_name": "Python 3 (ipykernel)",
      "language": "python",
      "name": "python3"
    },
    "language_info": {
      "codemirror_mode": {
        "name": "ipython",
        "version": 3
      },
      "file_extension": ".py",
      "mimetype": "text/x-python",
      "name": "python",
      "nbconvert_exporter": "python",
      "pygments_lexer": "ipython3",
      "version": "3.9.7"
    }
  },
  "nbformat": 4,
  "nbformat_minor": 0
}